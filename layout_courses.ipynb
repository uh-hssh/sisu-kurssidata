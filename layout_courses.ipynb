{
 "cells": [
  {
   "cell_type": "code",
   "execution_count": null,
   "id": "79c0d682",
   "metadata": {},
   "outputs": [],
   "source": [
    "import pandas as pd\n",
    "import docx\n",
    "from docx.shared import Inches\n",
    "from docx import Document"
   ]
  },
  {
   "cell_type": "code",
   "execution_count": null,
   "id": "043a884f",
   "metadata": {},
   "outputs": [],
   "source": [
    "course_file = 'datafication_courses_23-24-validated-jouni-2023-09-08'"
   ]
  },
  {
   "cell_type": "code",
   "execution_count": null,
   "id": "40e48f56",
   "metadata": {},
   "outputs": [],
   "source": [
    "df = pd.read_excel(course_file + '.xlsx')"
   ]
  },
  {
   "cell_type": "code",
   "execution_count": null,
   "id": "73256fc4",
   "metadata": {},
   "outputs": [],
   "source": [
    "df['start'] = pd.to_datetime( df['start'] )\n",
    "df['end'] = pd.to_datetime( df['end'] )"
   ]
  },
  {
   "cell_type": "code",
   "execution_count": null,
   "id": "de9e9691",
   "metadata": {},
   "outputs": [],
   "source": [
    "df = df.sort_values('start')\n",
    "df['name'] = df['name'].str.replace(', Luento-opetus', '')"
   ]
  },
  {
   "cell_type": "code",
   "execution_count": null,
   "id": "ac99c703",
   "metadata": {},
   "outputs": [],
   "source": [
    "periods = {\n",
    "    1 : {'start' : pd.Timestamp('2023-09-04'), 'end' : pd.Timestamp('2023-10-22')},\n",
    "    2 : {'start' : pd.Timestamp('2023-10-30'), 'end' : pd.Timestamp('2023-12-17')},\n",
    "    3 : {'start' : pd.Timestamp('2024-01-15'), 'end' : pd.Timestamp('2024-03-03')},\n",
    "    4 : {'start' : pd.Timestamp('2024-03-11'), 'end' : pd.Timestamp('2024-05-05')},\n",
    "    5 : {'start' : pd.Timestamp('2024-05-06'), 'end' : pd.Timestamp('2024-05-31')}\n",
    "}"
   ]
  },
  {
   "cell_type": "code",
   "execution_count": null,
   "id": "a1d15887",
   "metadata": {},
   "outputs": [],
   "source": [
    "def add_hyperlink(paragraph, url, text):\n",
    "    \n",
    "    # This gets access to the document.xml.rels file and gets a new relation id value\n",
    "    part = paragraph.part\n",
    "    r_id = part.relate_to(url, docx.opc.constants.RELATIONSHIP_TYPE.HYPERLINK, is_external=True)\n",
    "    \n",
    "    # Create the w:hyperlink tag and add needed values\n",
    "    hyperlink = docx.oxml.shared.OxmlElement('w:hyperlink')\n",
    "    hyperlink.set(docx.oxml.shared.qn('r:id'), r_id, )\n",
    "    \n",
    "    # Create a w:r element\n",
    "    new_run = docx.oxml.shared.OxmlElement('w:r')\n",
    "    \n",
    "    # Create a new w:rPr element\n",
    "    rPr = docx.oxml.shared.OxmlElement('w:rPr')\n",
    "    \n",
    "    # Add blue color\n",
    "    c = docx.oxml.shared.OxmlElement('w:color')\n",
    "    c.set(docx.oxml.shared.qn('w:val'), \"#0070E0\")\n",
    "    rPr.append(c)\n",
    "    \n",
    "    # Join all the xml elements together add add the required text to the w:r element\n",
    "    new_run.append(rPr)\n",
    "    new_run.text = text\n",
    "    hyperlink.append(new_run)\n",
    "    \n",
    "    paragraph._p.append(hyperlink)"
   ]
  },
  {
   "cell_type": "code",
   "execution_count": null,
   "id": "6832f0c8",
   "metadata": {},
   "outputs": [],
   "source": [
    "def write_to_docx( course ):    \n",
    "    p = document.add_paragraph()\n",
    "    p.paragraph_format.left_indent = Inches(-0.5)\n",
    "    p.paragraph_format.right_indent = Inches(-2)\n",
    "    \n",
    "    p.add_run( course['code'] + ' ' )\n",
    "    p.add_run( course['name'] + '\\n' ).bold = True\n",
    "    add_hyperlink( p, course['url'], course['url'] )"
   ]
  },
  {
   "cell_type": "code",
   "execution_count": null,
   "id": "5a8a5ffc",
   "metadata": {},
   "outputs": [],
   "source": [
    "years = '2023-2024'\n",
    "document = Document()\n",
    "\n",
    "# Write courses to docx file, organized by period and alphabetically within periods\n",
    "for p in range( 1, len(periods) + 1 ):\n",
    "    \n",
    "    # Filter by period\n",
    "    df_write = df[(df['start'] >= periods[p]['start']) & (df['start'] <= periods[p]['end'])]\n",
    "    \n",
    "    if len(df_write) == 0:\n",
    "        continue\n",
    "    \n",
    "    p_start =  periods[p]['start'].strftime(\"%-d.%-m.%Y\")\n",
    "    p_end = periods[p]['end'].strftime(\"%-d.%-m.%Y\")\n",
    "    \n",
    "    h = document.add_heading(level=1)\n",
    "    h.paragraph_format.left_indent = Inches(-0.5)\n",
    "    \n",
    "    heading = 'period of ' + years + ' – ' + p_start + '–' + p_end\n",
    "    heading = str(p) + '. teaching ' + heading if p!=5 else 'Intensive ' + heading\n",
    "    heading = \"Courses starting in \" + heading\n",
    "    \n",
    "    h.add_run( heading )\n",
    "    \n",
    "    # Sort alphabetically\n",
    "    df_write = df_write.sort_values(by='name')\n",
    "    \n",
    "    df_write.apply( lambda course: write_to_docx(course), axis=1 )\n",
    "\n",
    "document.save(course_file + '.docx')"
   ]
  }
 ],
 "metadata": {
  "kernelspec": {
   "display_name": "Python 3 (ipykernel)",
   "language": "python",
   "name": "python3"
  },
  "language_info": {
   "codemirror_mode": {
    "name": "ipython",
    "version": 3
   },
   "file_extension": ".py",
   "mimetype": "text/x-python",
   "name": "python",
   "nbconvert_exporter": "python",
   "pygments_lexer": "ipython3",
   "version": "3.10.0"
  }
 },
 "nbformat": 4,
 "nbformat_minor": 5
}
