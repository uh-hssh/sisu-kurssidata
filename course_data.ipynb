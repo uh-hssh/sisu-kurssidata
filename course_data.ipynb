{
 "cells": [
  {
   "cell_type": "code",
   "execution_count": null,
   "id": "e412d8f6",
   "metadata": {},
   "outputs": [],
   "source": [
    "import json\n",
    "import requests\n",
    "import pandas as pd"
   ]
  },
  {
   "cell_type": "markdown",
   "id": "81eb998f",
   "metadata": {},
   "source": [
    "## Get course realization data from course codes or keywords"
   ]
  },
  {
   "cell_type": "code",
   "execution_count": null,
   "id": "5e1c0166",
   "metadata": {},
   "outputs": [],
   "source": [
    "# Headers to use in requests\n",
    "with open('headers.json', 'r') as f:\n",
    "    headers = json.load(f)"
   ]
  },
  {
   "cell_type": "code",
   "execution_count": null,
   "id": "0ffdb54b",
   "metadata": {},
   "outputs": [],
   "source": [
    "course_category = 'method' # method / datafication / general\n",
    "query_type = 'codes' # codes / keywords"
   ]
  },
  {
   "cell_type": "code",
   "execution_count": null,
   "id": "29492464",
   "metadata": {},
   "outputs": [],
   "source": [
    "# Read query terms from file\n",
    "with open('query-terms/' + query_type + '_' + course_category + '.txt', 'r') as f:\n",
    "    query_terms = [l.strip() for l in f.readlines()]\n",
    "\n",
    "query_terms = list( dict.fromkeys(query_terms) )  # remove duplicates\n",
    "print( len(query_terms) )"
   ]
  },
  {
   "cell_type": "code",
   "execution_count": null,
   "id": "b3e45306",
   "metadata": {},
   "outputs": [],
   "source": [
    "# Function for downloading realizations for each query term, given query type\n",
    "def get_realizations(query_term, query_type, headers):\n",
    "    \n",
    "    if query_type == 'codes':\n",
    "        search_string = 'codeQuery:\"' + query_term + '\"'\n",
    "    else:\n",
    "        search_string = 'fullTextQuery:\"' + query_term + '\"'\n",
    "    \n",
    "    # Filter external courses\n",
    "    search_string = search_string + ', universityOrgIds:[\"hy-university-root-id\"]'\n",
    "    \n",
    "    # Construct query for Sisu API\n",
    "    query = '{ course_unit_search( ' + search_string + ' ) '\n",
    "    query += '{ id code name{fi} courseUnitRealisations{ '\n",
    "    query += 'id name{fi} documentState nameSpecifier{fi} courseUnitRealisationType{'\n",
    "    query += 'name{fi}} activityPeriod{ startDate endDate } '\n",
    "    query += '} '\n",
    "    query += '} }'\n",
    "            \n",
    "    json_data = { 'query': query }\n",
    "    response = requests.post( headers['Origin'] + '/api/', headers=headers, json=json_data )\n",
    "    \n",
    "    course_data = response.json()['data']['course_unit_search']\n",
    "    \n",
    "    if not course_data:\n",
    "        print(search_string, \"returned no data.\")\n",
    "    else:\n",
    "        return( course_data )"
   ]
  },
  {
   "cell_type": "code",
   "execution_count": null,
   "id": "f48e05e2",
   "metadata": {},
   "outputs": [],
   "source": [
    "# Get all course data for query terms\n",
    "course_data = [get_realizations(term, query_type, headers) for term in query_terms]\n",
    "\n",
    "# Clean list\n",
    "course_data = [c for c in course_data if c is not None]\n",
    "\n",
    "# Flatten list\n",
    "course_data = [c for course in course_data for c in course]\n",
    "\n",
    "len( course_data )"
   ]
  },
  {
   "cell_type": "code",
   "execution_count": null,
   "id": "d0f9525d",
   "metadata": {},
   "outputs": [],
   "source": [
    "# Get course realizations from course data\n",
    "realizations = []\n",
    "for course in course_data:\n",
    "    \n",
    "    for realization in course['courseUnitRealisations']:\n",
    "        \n",
    "        # Discard inactive realizations\n",
    "        if (realization['documentState'] == 'ACTIVE'):\n",
    "            \n",
    "            code = course['code']\n",
    "            study_unit_name = course['name']['fi']\n",
    "            realization_id = realization['id']\n",
    "            realization_name = realization['name']['fi']\n",
    "            realization_name_specifier = realization['nameSpecifier']['fi']\n",
    "            realization_type = realization['courseUnitRealisationType']['name']['fi']\n",
    "            realization_start = realization['activityPeriod']['startDate']\n",
    "            realization_end = realization['activityPeriod']['endDate']\n",
    "            realization_url = 'https://studies.helsinki.fi/opintotarjonta/cur/' + realization['id']\n",
    "                        \n",
    "            realizations.append(\n",
    "                (\n",
    "                    realization_id,\n",
    "                    code,\n",
    "                    study_unit_name,\n",
    "                    realization_name,\n",
    "                    realization_name_specifier,\n",
    "                    realization_type,\n",
    "                    realization_url,\n",
    "                    realization_start,\n",
    "                    realization_end\n",
    "                )\n",
    "            )"
   ]
  },
  {
   "cell_type": "code",
   "execution_count": null,
   "id": "345ac8ac",
   "metadata": {},
   "outputs": [],
   "source": [
    "columns = ['id', 'code', 'study_unit_name', 'name', 'name_specifier', 'type', 'url', 'start', 'end']\n",
    "df_realizations = pd.DataFrame(realizations, columns=columns)"
   ]
  },
  {
   "cell_type": "code",
   "execution_count": null,
   "id": "0e2356e7",
   "metadata": {},
   "outputs": [],
   "source": [
    "df_realizations.to_json('data/' + course_category + '_' + query_type + '_realizations.json')"
   ]
  },
  {
   "cell_type": "markdown",
   "id": "7216f481",
   "metadata": {},
   "source": [
    "# Filter course realizations"
   ]
  },
  {
   "cell_type": "code",
   "execution_count": null,
   "id": "7a2620de",
   "metadata": {},
   "outputs": [],
   "source": [
    "df_realizations = pd.read_json('data/' + course_category + '_' + query_type + '_realizations' + '.json')"
   ]
  },
  {
   "cell_type": "code",
   "execution_count": null,
   "id": "2cf48bab",
   "metadata": {},
   "outputs": [],
   "source": [
    "# Filter course realizations by start date\n",
    "df_realizations['start'] = df_realizations['start'].apply(pd.to_datetime)\n",
    "df_realizations['end'] = df_realizations['end'].apply(pd.to_datetime)\n",
    "df_realizations = df_realizations[df_realizations['start'] > pd.to_datetime('2023-07-01')]"
   ]
  },
  {
   "cell_type": "code",
   "execution_count": null,
   "id": "ec995f5d",
   "metadata": {},
   "outputs": [],
   "source": [
    "# Drop duplicates, nan results and redundant columns\n",
    "df_realizations.drop_duplicates(subset=['id','name','type','url','start','end'], keep='last', inplace=True)\n",
    "df_realizations.dropna(subset=['id','name'])\n",
    "df_realizations = df_realizations.drop('id', axis=1)"
   ]
  },
  {
   "cell_type": "code",
   "execution_count": null,
   "id": "fbc9cbe9",
   "metadata": {},
   "outputs": [],
   "source": [
    "# Check course types in data\n",
    "df_realizations['type'].value_counts()"
   ]
  },
  {
   "cell_type": "code",
   "execution_count": null,
   "id": "ed2ab28d",
   "metadata": {},
   "outputs": [],
   "source": [
    "# Select relevant course types\n",
    "course_types = ['Luento-opetus', 'Verkko-opetus', 'Laboratoriotyöskentely', 'Lähiopetus', 'Projekti',\n",
    "                'Etäopetus','Seminaari','Kirjallinen työ','Pienryhmäopetus','Itsenäinen projekti',\n",
    "                'Monimuoto-opetus']\n",
    "\n",
    "mask_type = df_realizations['type'].apply( lambda t: t in course_types )\n",
    "\n",
    "df_realizations = df_realizations[mask_type]"
   ]
  },
  {
   "cell_type": "code",
   "execution_count": null,
   "id": "7db8c821",
   "metadata": {},
   "outputs": [],
   "source": [
    "# Get courses with unclear names\n",
    "unclear_names = ['Verkko-opetus','Luento-opetus','Online teaching','Itsenäinen työskentely',\n",
    "                 'Kirjallinen työ', 'Avoin yliopisto','Laboratoriotyöskentely',\n",
    "                 \"Lähiopetus\",\"Projekti\",\"Toteutus\",\"Syksy 2023\",\"Harjoitukset ja videoluennot\",\n",
    "                 'Verkko-opetus, etäopetus Kokkolassa', 'Verkko-opetus, avoin yliopisto-opetus (Seinäjoki)',\n",
    "                 \"Lectures and Laboratory work\", \"Luennot, harjoitukset & projekti\",\n",
    "                 \"Metodologian praktikum (KUMA-EF301), Lähiopetus\", \"Luento-opetus, Chydeniuksen opiskelijoille\",\n",
    "                 \"Kevään toteutus (FI/EN)\", \"Syksyn toteutus (FI/EN)\", \"Kesän verkko-opetus (FI/EN)\",\n",
    "                 \"Luento-opetus, suomeksi\",\"Luento-opetus, englanniksi\",\"Verkko-opetus, LV 2023-2024\",\n",
    "                 \"Ei opetusta lv 2023-2024 Data Mining: The B-Course and GUHA-Method\"]\n",
    "\n",
    "unclear_names = [n.lower() for n in unclear_names]\n",
    "\n",
    "# If course has unclear name or name is identical to course code, mark as unclear\n",
    "mask_unclear = df_realizations.apply( \n",
    "    lambda course: (course['name'].lower() in unclear_names) | (course['name'].lower() == course['code'].lower()),\n",
    "    axis=1\n",
    ")\n",
    "\n",
    "df_unclear = df_realizations[mask_unclear]"
   ]
  },
  {
   "cell_type": "code",
   "execution_count": null,
   "id": "f5e51b35",
   "metadata": {},
   "outputs": [],
   "source": [
    "# Replace unclear names with name specifiers\n",
    "df_unclear.loc[:,'name'] = df_unclear['name_specifier']\n",
    "df_unclear = df_unclear.drop('name_specifier', axis=1)\n",
    "\n",
    "# Check if the corrected name is the same as course type; if yes, replace with study unit name\n",
    "course_name_type_mask = df_unclear.apply( lambda course: course['name'].lower() == course['type'].lower(), axis=1)\n",
    "df_unclear.loc[course_name_type_mask,'name'] = df_unclear['study_unit_name']\n",
    "\n",
    "# Write courses with unclear names to json\n",
    "df_unclear['start'] = df_unclear['start'].astype('str')\n",
    "df_unclear['end'] = df_unclear['end'].astype('str')\n",
    "df_unclear.to_json('data/' + course_category + '_' + query_type + '_unclear.json')"
   ]
  },
  {
   "cell_type": "code",
   "execution_count": null,
   "id": "f991ec33",
   "metadata": {},
   "outputs": [],
   "source": [
    "# Drop courses with unclear names\n",
    "df_realizations = df_realizations[~mask_unclear]\n",
    "df_realizations.reset_index(drop=True, inplace=True)"
   ]
  },
  {
   "cell_type": "code",
   "execution_count": null,
   "id": "33d270fc",
   "metadata": {},
   "outputs": [],
   "source": [
    "# Write filtered course realizations to json, or directly to xlsx for general courses\n",
    "df_realizations['start'] = df_realizations['start'].astype('str')\n",
    "df_realizations['end'] = df_realizations['end'].astype('str')\n",
    "df_realizations.to_json('data/' + course_category + '_' + query_type + '_filtered_realizations.json')\n",
    "\n",
    "if course_category == 'general':\n",
    "    df_realizations.to_excel(course_category + '_courses_23-24.xlsx', index=False)"
   ]
  },
  {
   "cell_type": "markdown",
   "id": "87dd2f14",
   "metadata": {},
   "source": [
    "# Combine and deduplicate data and write to xlsx"
   ]
  },
  {
   "cell_type": "code",
   "execution_count": null,
   "id": "33565cbc",
   "metadata": {},
   "outputs": [],
   "source": [
    "course_category = 'method'"
   ]
  },
  {
   "cell_type": "code",
   "execution_count": null,
   "id": "bbfecd14",
   "metadata": {},
   "outputs": [],
   "source": [
    "# Get data for course codes and keywords\n",
    "df_codes = pd.read_json('data/' + course_category + '_codes_filtered_realizations.json')\n",
    "df_keywords = pd.read_json('data/' + course_category + '_keywords_filtered_realizations.json')\n",
    "\n",
    "df_codes_unclear = pd.read_json('data/' + course_category + '_codes_unclear.json')\n",
    "df_keywords_unclear = pd.read_json('data/' + course_category + '_keywords_unclear.json')"
   ]
  },
  {
   "cell_type": "code",
   "execution_count": null,
   "id": "9c2afd68",
   "metadata": {},
   "outputs": [],
   "source": [
    "# Combine and deduplicate data from codes and keywords, write to excel\n",
    "df_combined = pd.concat([df_codes,df_keywords], ignore_index=True)\n",
    "df_combined.drop_duplicates(inplace=True)\n",
    "df_combined.drop('name_specifier', axis=1, inplace=True)\n",
    "print( len(df_combined) )\n",
    "\n",
    "df_combined.to_excel(course_category + '_courses_23-24.xlsx', index=False)"
   ]
  },
  {
   "cell_type": "code",
   "execution_count": null,
   "id": "a80b2e1a",
   "metadata": {},
   "outputs": [],
   "source": [
    "# Combine and deduplicate unclear data, write to excel\n",
    "df_combined_unclear = pd.concat([df_codes_unclear,df_keywords_unclear], ignore_index=True)\n",
    "df_combined_unclear.drop_duplicates(inplace=True)\n",
    "print( len(df_combined_unclear) )\n",
    "\n",
    "df_combined_unclear.to_excel(course_category + '_unclear.xlsx', index=False)"
   ]
  },
  {
   "cell_type": "markdown",
   "id": "a9d6b382",
   "metadata": {},
   "source": [
    "### Check general data against other datasets and drop duplicates"
   ]
  },
  {
   "cell_type": "code",
   "execution_count": null,
   "id": "5b42abd5",
   "metadata": {},
   "outputs": [],
   "source": [
    "# Get data for method and datafication query terms\n",
    "df_method = pd.read_excel('method_courses_23-24.xlsx')\n",
    "df_datafication = pd.read_excel('datafication_courses_23-24.xlsx')\n",
    "df_method_datafication = pd.concat([df_method,df_datafication], ignore_index=True)\n",
    "\n",
    "# Get data for general query terms\n",
    "df_general = pd.read_excel('general_courses_23-24.xlsx')\n",
    "print( len(df_general) )\n",
    "\n",
    "# Drop courses from general data that are in method or datafication courses\n",
    "df_merge = pd.merge(df_general, df_method_datafication, how='left', indicator='exist')\n",
    "df_merge = df_merge[df_merge['exist'] != 'both']\n",
    "\n",
    "df_merge.drop('exist', axis=1, inplace=True)\n",
    "df_merge.drop('name_specifier', axis=1, inplace=True)\n",
    "\n",
    "print( len(df_merge) )"
   ]
  },
  {
   "cell_type": "code",
   "execution_count": null,
   "id": "1165624b",
   "metadata": {},
   "outputs": [],
   "source": [
    "df_merge.to_excel('general_courses_23-24.xlsx', index=False)"
   ]
  },
  {
   "cell_type": "code",
   "execution_count": null,
   "id": "23c1d83d",
   "metadata": {},
   "outputs": [],
   "source": [
    "# Get data with unclear names for method and datafication query terms\n",
    "df_method_unclear = pd.read_excel('method_unclear.xlsx')\n",
    "df_datafication_unclear = pd.read_excel('datafication_unclear.xlsx')\n",
    "df_method_datafication_unclear = pd.concat([df_method_unclear,df_datafication_unclear], ignore_index=True)\n",
    "\n",
    "# Get data with unclear names for general query terms\n",
    "df_general_unclear = pd.read_json('data/general_keywords_unclear.json')\n",
    "print( len(df_general_unclear) )\n",
    "\n",
    "# Drop data that are in method or datafication courses\n",
    "df_merge_unclear = pd.merge(df_general_unclear, df_method_datafication_unclear, how='left', indicator='exist')\n",
    "df_merge_unclear = df_merge_unclear[df_merge_unclear['exist'] != 'both']\n",
    "\n",
    "df_merge_unclear.drop('exist', axis=1, inplace=True)\n",
    "\n",
    "print( len(df_merge_unclear) )"
   ]
  },
  {
   "cell_type": "code",
   "execution_count": null,
   "id": "21df9884",
   "metadata": {},
   "outputs": [],
   "source": [
    "df_merge_unclear.to_excel('general_unclear.xlsx', index=False)"
   ]
  }
 ],
 "metadata": {
  "kernelspec": {
   "display_name": "Python 3 (ipykernel)",
   "language": "python",
   "name": "python3"
  },
  "language_info": {
   "codemirror_mode": {
    "name": "ipython",
    "version": 3
   },
   "file_extension": ".py",
   "mimetype": "text/x-python",
   "name": "python",
   "nbconvert_exporter": "python",
   "pygments_lexer": "ipython3",
   "version": "3.10.0"
  }
 },
 "nbformat": 4,
 "nbformat_minor": 5
}
